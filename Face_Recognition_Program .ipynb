{
 "cells": [
  {
   "cell_type": "code",
   "execution_count": 1,
   "id": "c2003a25",
   "metadata": {},
   "outputs": [],
   "source": [
    "import cv2\n",
    "import face_recognition\n",
    "\n",
    "# List of known people names\n",
    "known_names = [\"TONY/IRON MAN\"]  # actual names\n",
    "\n",
    "# images of known people\n",
    "known_images = [\"RDJ..jpg\"]  # actual image file paths\n",
    "\n",
    "# Load the known face encodings and names\n",
    "known_face_encodings = []\n",
    "for image_path in known_images:\n",
    "    image = face_recognition.load_image_file(image_path)\n",
    "    encoding = face_recognition.face_encodings(image)[0]\n",
    "    known_face_encodings.append(encoding)\n",
    "\n",
    "# Initialize the OpenCV camera capture\n",
    "cap = cv2.VideoCapture(0)  # 0 indicates the default camera\n",
    "\n",
    "# Initialize the OpenCV window\n",
    "cv2.namedWindow(\"Face Recognition\", cv2.WINDOW_NORMAL)\n",
    "# Full screen view\n",
    "#cv2.setWindowProperty(\"Face Recognition\", cv2.WND_PROP_FULLSCREEN, cv2.WINDOW_FULLSCREEN)\n",
    "\n",
    "while True:\n",
    "    # Capture frame-by-frame\n",
    "    ret, frame = cap.read()\n",
    "\n",
    "    # Find faces in the frame\n",
    "    face_locations = face_recognition.face_locations(frame)\n",
    "    face_encodings = face_recognition.face_encodings(frame, face_locations)\n",
    "\n",
    "    # Iterate through face locations and encodings\n",
    "    for (top, right, bottom, left), face_encoding in zip(face_locations, face_encodings):\n",
    "        # Compare the face with known faces\n",
    "        matches = face_recognition.compare_faces(known_face_encodings, face_encoding)\n",
    "        name = \"Unknown\"  # Default label if no match\n",
    "\n",
    "        if True in matches:\n",
    "            match_index = matches.index(True)\n",
    "            name = known_names[match_index]  # Use the matched person's name\n",
    "\n",
    "        # Draw a rectangle around the face\n",
    "        cv2.rectangle(frame, (left, top), (right, bottom), (0, 255, 0), 2)\n",
    "        # Put the name label below the face\n",
    "        cv2.putText(frame, name, (left, bottom + 20), cv2.FONT_HERSHEY_SIMPLEX, 0.6, (0, 255, 0), 2)\n",
    "\n",
    "    # Display the frame\n",
    "    cv2.imshow(\"Face Recognition\", frame)\n",
    "\n",
    "    # Break the loop if 'q' key is pressed\n",
    "    if cv2.waitKey(1) & 0xFF == ord('q'):\n",
    "        break\n",
    "\n",
    "# Release the camera and close the OpenCV window\n",
    "cap.release()\n",
    "cv2.destroyAllWindows()\n"
   ]
  },
  {
   "cell_type": "code",
   "execution_count": null,
   "id": "f4ff16f5",
   "metadata": {},
   "outputs": [],
   "source": []
  },
  {
   "cell_type": "code",
   "execution_count": null,
   "id": "5c0b73d3",
   "metadata": {},
   "outputs": [],
   "source": []
  }
 ],
 "metadata": {
  "kernelspec": {
   "display_name": "Python 3 (ipykernel)",
   "language": "python",
   "name": "python3"
  },
  "language_info": {
   "codemirror_mode": {
    "name": "ipython",
    "version": 3
   },
   "file_extension": ".py",
   "mimetype": "text/x-python",
   "name": "python",
   "nbconvert_exporter": "python",
   "pygments_lexer": "ipython3",
   "version": "3.11.3"
  }
 },
 "nbformat": 4,
 "nbformat_minor": 5
}
